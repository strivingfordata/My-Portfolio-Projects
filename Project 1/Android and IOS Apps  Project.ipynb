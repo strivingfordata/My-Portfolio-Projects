{
 "cells": [
  {
   "cell_type": "markdown",
   "metadata": {},
   "source": [
    "# Identifying Opportunities in Android and IOS Application Markets\n",
    "\n",
    "# Introduction\n",
    "\n",
    "For this project, i am assuming my role as a Data Analyst for a company (ABC) that develops mobile applications. The goal of this project is to help stakeholders understand what type of apps are likely to attract more users on Google Play and the IOS App Store. The following are the data sets that will be used throughout the project:\n",
    "\n",
    "* A [dataset](https://www.kaggle.com/lava18/google-play-store-apps) containing data about approximately 10,000 Android apps from      Google Play; the data was collected in August 2018. You can download the    data set directly from [this link](https://dq-content.s3.amazonaws.com/350/googleplaystore.csv)\n",
    "\n",
    "* A [dataset](https://www.kaggle.com/ramamet4/app-store-apple-data-set-10k-apps) containing data about approximately 7,000 IOS apps from the App Store; the data was collected in July 2017. You can download the data set directly from [this link](https://dq-content.s3.amazonaws.com/350/AppleStore.csv)\n",
    "\n",
    "In order to make our recommendations, we will try to examine:\n",
    "\n",
    "* The most common apps by genre\n",
    "* Apps with the highest number of users by genre\n",
    "* The highest rated apps by genre"
   ]
  },
  {
   "cell_type": "markdown",
   "metadata": {},
   "source": [
    "# Data Exploration\n",
    "\n",
    "Let's start by opening the two datasets and continue with exploring the data"
   ]
  },
  {
   "cell_type": "code",
   "execution_count": 1,
   "metadata": {},
   "outputs": [],
   "source": [
    "from csv import reader\n",
    "\n",
    "# The App store dataset#\n",
    "open_file = open('AppleStore.csv')\n",
    "read_file = reader(open_file)\n",
    "Ios = list(read_file)\n",
    "Ios_header = Ios[0]\n",
    "Ios = Ios[1:]\n",
    "\n",
    "\n",
    "# The google play store dataset#\n",
    "open_file = open('googleplaystore.csv')\n",
    "read_file = reader(open_file)\n",
    "android = list(read_file)\n",
    "android_header = android[0]\n",
    "android = android[1:]"
   ]
  },
  {
   "cell_type": "markdown",
   "metadata": {},
   "source": [
    "To make it easier to explore the two dataset, we created a function named explore_data() that we can use repeatedly to explore rows in a readable way.\n",
    "We will also add an option for our function to show the number of rows and columns for any data set."
   ]
  },
  {
   "cell_type": "code",
   "execution_count": 2,
   "metadata": {
    "scrolled": true
   },
   "outputs": [
    {
     "name": "stdout",
     "output_type": "stream",
     "text": [
      "['id', 'track_name', 'size_bytes', 'currency', 'price', 'rating_count_tot', 'rating_count_ver', 'user_rating', 'user_rating_ver', 'ver', 'cont_rating', 'prime_genre', 'sup_devices.num', 'ipadSc_urls.num', 'lang.num', 'vpp_lic']\n",
      "\n",
      "\n",
      "['284882215', 'Facebook', '389879808', 'USD', '0.0', '2974676', '212', '3.5', '3.5', '95.0', '4+', 'Social Networking', '37', '1', '29', '1']\n",
      "\n",
      "\n",
      "['389801252', 'Instagram', '113954816', 'USD', '0.0', '2161558', '1289', '4.5', '4.0', '10.23', '12+', 'Photo & Video', '37', '0', '29', '1']\n",
      "\n",
      "\n",
      "['529479190', 'Clash of Clans', '116476928', 'USD', '0.0', '2130805', '579', '4.5', '4.5', '9.24.12', '9+', 'Games', '38', '5', '18', '1']\n",
      "\n",
      "\n",
      "Number of rows: 7197\n",
      "Number of columns: 16\n"
     ]
    }
   ],
   "source": [
    "def explore_data(dataset, start, end, row_and_columns = False):\n",
    "    dataset_slice = dataset[start:end]\n",
    "    \n",
    "    for row in dataset_slice:\n",
    "        print(row)\n",
    "        print('\\n') #adds a new (empty) line after each row\n",
    "        \n",
    "    if row_and_columns:\n",
    "        print('Number of rows:',len(dataset))\n",
    "        print('Number of columns:',len(dataset[0]))\n",
    "\n",
    "print(Ios_header)\n",
    "print('\\n')\n",
    "explore_data(Ios , 0, 3, True)     "
   ]
  },
  {
   "cell_type": "markdown",
   "metadata": {},
   "source": [
    "We have 7197 IOS apps and 16 columns in our dataset. Out of this some of the column names seems interesting like \"price\",\"currency\", \"rating_count_tot\",\"prime_genre\" etc. Not all the column names are self explanatory, in this case details about each column can be found in the  dataset [documentation](https://www.kaggle.com/ramamet4/app-store-apple-data-set-10k-apps/home)\n",
    "\n",
    "Now let's take a look at Google play store dataset"
   ]
  },
  {
   "cell_type": "code",
   "execution_count": 3,
   "metadata": {},
   "outputs": [
    {
     "name": "stdout",
     "output_type": "stream",
     "text": [
      "['App', 'Category', 'Rating', 'Reviews', 'Size', 'Installs', 'Type', 'Price', 'Content Rating', 'Genres', 'Last Updated', 'Current Ver', 'Android Ver']\n",
      "\n",
      "\n",
      "['Photo Editor & Candy Camera & Grid & ScrapBook', 'ART_AND_DESIGN', '4.1', '159', '19M', '10,000+', 'Free', '0', 'Everyone', 'Art & Design', 'January 7, 2018', '1.0.0', '4.0.3 and up']\n",
      "\n",
      "\n",
      "['Coloring book moana', 'ART_AND_DESIGN', '3.9', '967', '14M', '500,000+', 'Free', '0', 'Everyone', 'Art & Design;Pretend Play', 'January 15, 2018', '2.0.0', '4.0.3 and up']\n",
      "\n",
      "\n",
      "['U Launcher Lite – FREE Live Cool Themes, Hide Apps', 'ART_AND_DESIGN', '4.7', '87510', '8.7M', '5,000,000+', 'Free', '0', 'Everyone', 'Art & Design', 'August 1, 2018', '1.2.4', '4.0.3 and up']\n",
      "\n",
      "\n",
      "Number of rows: 10841\n",
      "Number of columns: 13\n"
     ]
    }
   ],
   "source": [
    "print(android_header)\n",
    "print('\\n')\n",
    "explore_data(android, 0, 3, True)"
   ]
  },
  {
   "cell_type": "markdown",
   "metadata": {
    "collapsed": true
   },
   "source": [
    "We have 10841 Google apps and 13 columns in this dataset. Out of which some of the\n",
    "columns like \"app\", \"Price\", \"Category\", \"Genres' etc might be useful for our analysis."
   ]
  },
  {
   "cell_type": "markdown",
   "metadata": {},
   "source": [
    "# Data Cleaning\n",
    "\n",
    "The Google Play data set has a dedicated [discussion section](https://www.kaggle.com/lava18/google-play-store-apps/discussion), and we can see that [one of the discussions](https://www.kaggle.com/lava18/google-play-store-apps/discussion/66015) describes an error for a row 10472. let's check it out by printing this row and compare against with header and another row that is correct."
   ]
  },
  {
   "cell_type": "code",
   "execution_count": 4,
   "metadata": {},
   "outputs": [
    {
     "name": "stdout",
     "output_type": "stream",
     "text": [
      "['Life Made WI-Fi Touchscreen Photo Frame', '1.9', '19', '3.0M', '1,000+', 'Free', '0', 'Everyone', '', 'February 11, 2018', '1.0.19', '4.0 and up']\n",
      "\n",
      "\n",
      "['App', 'Category', 'Rating', 'Reviews', 'Size', 'Installs', 'Type', 'Price', 'Content Rating', 'Genres', 'Last Updated', 'Current Ver', 'Android Ver']\n",
      "\n",
      "\n",
      "['Photo Editor & Candy Camera & Grid & ScrapBook', 'ART_AND_DESIGN', '4.1', '159', '19M', '10,000+', 'Free', '0', 'Everyone', 'Art & Design', 'January 7, 2018', '1.0.0', '4.0.3 and up']\n"
     ]
    }
   ],
   "source": [
    "print(android[10472]) #wrong row\n",
    "print('\\n')\n",
    "print(android_header) #header row\n",
    "print('\\n')\n",
    "print(android[0]) #correct row"
   ]
  },
  {
   "cell_type": "markdown",
   "metadata": {},
   "source": [
    "The row 10472 corresponds to the app 'Life Made WI-Fi Touchscreen Photo Frame', and we can see that column shift happened for next columns so the rating is showing as 19. This is clearly off because the maximum rating for a Google Play app is 5. As a consequence, we'll delete this row"
   ]
  },
  {
   "cell_type": "code",
   "execution_count": 5,
   "metadata": {},
   "outputs": [
    {
     "name": "stdout",
     "output_type": "stream",
     "text": [
      "10841\n",
      "10840\n"
     ]
    }
   ],
   "source": [
    "print(len(android))\n",
    "del android[10472] #Don't run this statement more than once\n",
    "print(len(android))"
   ]
  },
  {
   "cell_type": "markdown",
   "metadata": {},
   "source": [
    "# Handling Duplicate Data \n",
    "\n",
    "Now let's confirm that each app has only one entry in our dataset\n",
    "        "
   ]
  },
  {
   "cell_type": "code",
   "execution_count": 6,
   "metadata": {},
   "outputs": [
    {
     "name": "stdout",
     "output_type": "stream",
     "text": [
      "Number of duplicate apps: 1181\n",
      "\n",
      "\n",
      "Examples of duplicate apps: ['Quick PDF Scanner + OCR FREE', 'Box', 'Google My Business', 'ZOOM Cloud Meetings', 'join.me - Simple Meetings', 'Box', 'Zenefits', 'Google Ads', 'Google My Business', 'Slack', 'FreshBooks Classic', 'Insightly CRM', 'QuickBooks Accounting: Invoicing & Expenses', 'HipChat - Chat Built for Teams', 'Xero Accounting Software', 'MailChimp - Email, Marketing Automation', 'Crew - Free Messaging and Scheduling', 'Asana: organize team projects', 'Google Analytics', 'AdWords Express']\n"
     ]
    }
   ],
   "source": [
    "duplicate_apps = [] #This is for storing duplicate apps\n",
    "unique_apps = []   # This is for storing unique apps\n",
    "\n",
    "for app in android:\n",
    "    name = app[0]\n",
    "    if name in unique_apps:\n",
    "        duplicate_apps.append(name)\n",
    "    else:\n",
    "        unique_apps.append(name)\n",
    "print('Number of duplicate apps:', len(duplicate_apps))\n",
    "print('\\n')\n",
    "print('Examples of duplicate apps:',duplicate_apps[:20])"
   ]
  },
  {
   "cell_type": "markdown",
   "metadata": {},
   "source": [
    "We do not want to include duplicate apps data in our analysis, therefore we will need to remove them and keep only one entry per app. First, let's confirm if there are any differences between each duplicate app entries."
   ]
  },
  {
   "cell_type": "code",
   "execution_count": 7,
   "metadata": {},
   "outputs": [
    {
     "name": "stdout",
     "output_type": "stream",
     "text": [
      "['Slack', 'BUSINESS', '4.4', '51507', 'Varies with device', '5,000,000+', 'Free', '0', 'Everyone', 'Business', 'August 2, 2018', 'Varies with device', 'Varies with device']\n",
      "['Slack', 'BUSINESS', '4.4', '51507', 'Varies with device', '5,000,000+', 'Free', '0', 'Everyone', 'Business', 'August 2, 2018', 'Varies with device', 'Varies with device']\n",
      "['Slack', 'BUSINESS', '4.4', '51510', 'Varies with device', '5,000,000+', 'Free', '0', 'Everyone', 'Business', 'August 2, 2018', 'Varies with device', 'Varies with device']\n"
     ]
    }
   ],
   "source": [
    "#Print all data for one of the apps with duplicate entries\n",
    "for app in android:\n",
    "    name = app[0]\n",
    "    if name == 'Slack':\n",
    "        print(app)"
   ]
  },
  {
   "cell_type": "markdown",
   "metadata": {},
   "source": [
    "It looks like the number of reviews is higher for the last entry for the Slack app. Therefore, we can assume that these rows were likely pulled at a different time. Instead of removing the rows randomly, we will want to keep rows with the highest number of reviews.\n",
    "\n",
    "Let's proceed by doing the following steps:\n",
    "\n",
    "* Create a dictionary where each key is a unique app name and the               corresponding dictionary value is the highest number of review for that app\n",
    "\n",
    "* Use the information stored in the dictionary to create a new data set,       which will only have one entry per app"
   ]
  },
  {
   "cell_type": "markdown",
   "metadata": {},
   "source": [
    "## Handling duplicate data: Step 1 - Creating a Dictionary"
   ]
  },
  {
   "cell_type": "code",
   "execution_count": 8,
   "metadata": {},
   "outputs": [],
   "source": [
    "reviews_max = {}\n",
    "for app in android:\n",
    "    name = app[0]\n",
    "    n_reviews = float(app[3])\n",
    "    \n",
    "    if name in reviews_max and reviews_max[name] < n_reviews:\n",
    "        reviews_max[name] = n_reviews\n",
    "        \n",
    "    elif name not in reviews_max:\n",
    "        reviews_max[name] = n_reviews"
   ]
  },
  {
   "cell_type": "markdown",
   "metadata": {},
   "source": [
    "Since we know that the number of duplicate apps is 1,181, we should confirm that the number of de-duplicated data set under reviews_max dictionary is correct"
   ]
  },
  {
   "cell_type": "code",
   "execution_count": 9,
   "metadata": {},
   "outputs": [
    {
     "name": "stdout",
     "output_type": "stream",
     "text": [
      "Expected length: 9659\n",
      "Actual lenghth: 9659\n"
     ]
    }
   ],
   "source": [
    "print('Expected length:', len(android) - 1181)\n",
    "print('Actual lenghth:', len(reviews_max))"
   ]
  },
  {
   "cell_type": "markdown",
   "metadata": {},
   "source": [
    "##  Handling duplicate data: Step 2 : Removing duplicate rows\n",
    "\n",
    "From the above, it is evident that the reviews_max dictionary is pulling the proper data set, we want use that to remove duplicate rows on our Google Play data set."
   ]
  },
  {
   "cell_type": "code",
   "execution_count": 10,
   "metadata": {
    "collapsed": true
   },
   "outputs": [],
   "source": [
    "android_clean= [] #stores our new cleaned dataset\n",
    "already_added = [] # stores our app names\n",
    "\n",
    "for app in android:\n",
    "    name = app[0]\n",
    "    n_reviews = float(app[3])\n",
    "    \n",
    "    \n",
    "# Add the row to android_clean list and the app name to the already_clean list if:\n",
    "# 1. The app's number of reviews matches the app's number of reviews on reviews_max dictionary\n",
    "# 2. The app name is not already in already_added list (in case the highest number of reviews of a duplicate app is the same for more than one entry)\n",
    "\n",
    "    if (n_reviews == reviews_max[name]) and (name not in already_added):\n",
    "        android_clean.append(app)\n",
    "        already_added.append(name)"
   ]
  },
  {
   "cell_type": "markdown",
   "metadata": {},
   "source": [
    "Let's explore the new dataset to confirm the number of rows turns out to be 9659"
   ]
  },
  {
   "cell_type": "code",
   "execution_count": 11,
   "metadata": {},
   "outputs": [
    {
     "name": "stdout",
     "output_type": "stream",
     "text": [
      "['Photo Editor & Candy Camera & Grid & ScrapBook', 'ART_AND_DESIGN', '4.1', '159', '19M', '10,000+', 'Free', '0', 'Everyone', 'Art & Design', 'January 7, 2018', '1.0.0', '4.0.3 and up']\n",
      "\n",
      "\n",
      "['U Launcher Lite – FREE Live Cool Themes, Hide Apps', 'ART_AND_DESIGN', '4.7', '87510', '8.7M', '5,000,000+', 'Free', '0', 'Everyone', 'Art & Design', 'August 1, 2018', '1.2.4', '4.0.3 and up']\n",
      "\n",
      "\n",
      "['Sketch - Draw & Paint', 'ART_AND_DESIGN', '4.5', '215644', '25M', '50,000,000+', 'Free', '0', 'Teen', 'Art & Design', 'June 8, 2018', 'Varies with device', '4.2 and up']\n",
      "\n",
      "\n",
      "Number of rows: 9659\n",
      "Number of columns: 13\n"
     ]
    }
   ],
   "source": [
    "explore_data(android_clean, 0, 3, True)"
   ]
  },
  {
   "cell_type": "markdown",
   "metadata": {},
   "source": [
    "The clean dataset have 9659 rows, which is indeed as expected"
   ]
  },
  {
   "cell_type": "markdown",
   "metadata": {},
   "source": [
    "# Handling Non- English Apps\n",
    "\n",
    "Since we only have the resource to create English apps at our mobile development company, we should only include apps that are directed to English-speaking audience. According to the ASCII (American Standard Code for Information Interchange) system, the numbers corresponding to the characters we commonly use in an English text are all in the range of 0 to 127. Therefore, if the app name contains a character that is greater than 127, it means that the app likely has a non-English name."
   ]
  },
  {
   "cell_type": "code",
   "execution_count": 12,
   "metadata": {},
   "outputs": [
    {
     "name": "stdout",
     "output_type": "stream",
     "text": [
      "True\n",
      "False\n",
      "True\n",
      "True\n"
     ]
    }
   ],
   "source": [
    "# Create a function that will return 'False' if the character is greater than 127\n",
    "\n",
    "def is_english(string):\n",
    "    for character in string:\n",
    "        if (ord(character)) > 127:\n",
    "            return False\n",
    "        \n",
    "        return True\n",
    "    \n",
    "# Test our function on some English and Non English app names\n",
    "print(is_english('Instagram'))\n",
    "print(is_english('爱奇艺PPS -《欢乐颂2》电视剧热播'))\n",
    "print(is_english('Docs To Go™ Free Office Suite'))\n",
    "print(is_english('Instachat 😜'))"
   ]
  },
  {
   "cell_type": "markdown",
   "metadata": {},
   "source": [
    "If we observe clearly the last two apps are likely targeted to an English-speaking audience, our function still recognizes it as a non-English app. This is because emojis and ™ symbol falls outside the ASCII range and have corresponding numbers greater than 127."
   ]
  },
  {
   "cell_type": "code",
   "execution_count": 13,
   "metadata": {},
   "outputs": [
    {
     "name": "stdout",
     "output_type": "stream",
     "text": [
      "8482\n",
      "128540\n"
     ]
    }
   ],
   "source": [
    "print(ord('™'))\n",
    "print(ord('😜'))"
   ]
  },
  {
   "cell_type": "markdown",
   "metadata": {},
   "source": [
    "To minimize the impact of data loss, we'll only remove an app if its name has more than three characters with corresponding numbers falling outside the ASCII range. In this case our filter function is not perfect, but it should be fairly effective"
   ]
  },
  {
   "cell_type": "code",
   "execution_count": 14,
   "metadata": {},
   "outputs": [
    {
     "name": "stdout",
     "output_type": "stream",
     "text": [
      "True\n",
      "True\n",
      "False\n"
     ]
    }
   ],
   "source": [
    "def is_english(string):\n",
    "    non_ascii = 0\n",
    "\n",
    "# Create a loop that counts the number of characters that falls outside of ASCII range\n",
    "    for character in string:\n",
    "        if (ord(character)) > 127:\n",
    "            non_ascii += 1\n",
    "            \n",
    "    if non_ascii > 3:\n",
    "        return False\n",
    "    else:\n",
    "        return True\n",
    "    \n",
    "print(is_english('Docs To Go™ Free Office Suite'))\n",
    "print(is_english('Instachat 😜'))\n",
    "print(is_english('爱奇艺PPS -《欢乐颂2》电视剧热播'))    "
   ]
  },
  {
   "cell_type": "markdown",
   "metadata": {},
   "source": [
    "We have confirmed that this new version of the function will not exclude apps that may only contain emojis or symbols. Now, let's use this function to remove any non-English apps from our data set"
   ]
  },
  {
   "cell_type": "code",
   "execution_count": 15,
   "metadata": {},
   "outputs": [
    {
     "name": "stdout",
     "output_type": "stream",
     "text": [
      "['Photo Editor & Candy Camera & Grid & ScrapBook', 'ART_AND_DESIGN', '4.1', '159', '19M', '10,000+', 'Free', '0', 'Everyone', 'Art & Design', 'January 7, 2018', '1.0.0', '4.0.3 and up']\n",
      "\n",
      "\n",
      "['U Launcher Lite – FREE Live Cool Themes, Hide Apps', 'ART_AND_DESIGN', '4.7', '87510', '8.7M', '5,000,000+', 'Free', '0', 'Everyone', 'Art & Design', 'August 1, 2018', '1.2.4', '4.0.3 and up']\n",
      "\n",
      "\n",
      "['Sketch - Draw & Paint', 'ART_AND_DESIGN', '4.5', '215644', '25M', '50,000,000+', 'Free', '0', 'Teen', 'Art & Design', 'June 8, 2018', 'Varies with device', '4.2 and up']\n",
      "\n",
      "\n",
      "Number of rows: 9614\n",
      "Number of columns: 13\n",
      "\n",
      "\n",
      "['284882215', 'Facebook', '389879808', 'USD', '0.0', '2974676', '212', '3.5', '3.5', '95.0', '4+', 'Social Networking', '37', '1', '29', '1']\n",
      "\n",
      "\n",
      "['389801252', 'Instagram', '113954816', 'USD', '0.0', '2161558', '1289', '4.5', '4.0', '10.23', '12+', 'Photo & Video', '37', '0', '29', '1']\n",
      "\n",
      "\n",
      "['529479190', 'Clash of Clans', '116476928', 'USD', '0.0', '2130805', '579', '4.5', '4.5', '9.24.12', '9+', 'Games', '38', '5', '18', '1']\n",
      "\n",
      "\n",
      "Number of rows: 6183\n",
      "Number of columns: 16\n"
     ]
    }
   ],
   "source": [
    "android_english = []\n",
    "Ios_english = []\n",
    "\n",
    "for app in android_clean:\n",
    "    name = app[0]\n",
    "    if is_english(name):\n",
    "        android_english.append(app)\n",
    "        \n",
    "for app in Ios:\n",
    "    name = app[1]\n",
    "    if is_english(name):\n",
    "        Ios_english.append(app)\n",
    "    \n",
    "\n",
    "explore_data(android_english, 0, 3, True)\n",
    "print('\\n')\n",
    "explore_data(Ios_english, 0, 3, True)"
   ]
  },
  {
   "cell_type": "markdown",
   "metadata": {},
   "source": [
    "After we remove any non-English apps, we are now left with 9,614 Android apps and 6,183 IOS apps."
   ]
  },
  {
   "cell_type": "markdown",
   "metadata": {},
   "source": [
    "# Handling paid apps data\n",
    "As we mentiond above, we only build apps that are free to download and install, we need to make sure that we are only including free apps in our analysis."
   ]
  },
  {
   "cell_type": "code",
   "execution_count": 17,
   "metadata": {},
   "outputs": [
    {
     "name": "stdout",
     "output_type": "stream",
     "text": [
      "8864\n",
      "3222\n"
     ]
    }
   ],
   "source": [
    "#Creating a loop for Android that will append free apps to our final list\n",
    "\n",
    "android_final = []\n",
    "for app in android_english:\n",
    "    price = app[7]\n",
    "    if price == '0':\n",
    "        android_final.append(app)\n",
    "        \n",
    "#Creating a loop for IOS that will append free apps to our final list\n",
    "Ios_final = []\n",
    "for app in Ios_english:\n",
    "    price = app[4]\n",
    "    if price == '0.0':\n",
    "        Ios_final.append(app)\n",
    "\n",
    "print(len(android_final))\n",
    "print(len(Ios_final))"
   ]
  },
  {
   "cell_type": "markdown",
   "metadata": {},
   "source": [
    "Finally We are left with 8864 Android apps and 3222 IOS apps, which should be enough to move forward with our analysis."
   ]
  },
  {
   "cell_type": "markdown",
   "metadata": {},
   "source": [
    "# Data Analysis\n",
    "\n",
    "Our company's revenue is highly influenced by the number of people using our apps. Therefore, our goal for this project is to create an app that will likely attract more users.\n",
    "\n",
    "To minimize risk and overhead, our validation strategy for an app idea is comprised of the following steps:\n",
    "\n",
    "* Build a minimal Android version of the app, and add it to Google Play\n",
    "* Observe users response towards the app, develop further as needed\n",
    "* If the app is profitable within six months, we build an iOS version of the   app and add it to the App Store\n",
    "\n",
    "In the end, we want to create an app on both Apple App Store and Google Play. Therefore, it is important for us to determine which app profile is most successful on both markets."
   ]
  },
  {
   "cell_type": "markdown",
   "metadata": {},
   "source": [
    "# Most Common Apps by Genre\n",
    "\n",
    "Let's begin our analysis by getting a sense of the most common genres on each market.Let's build a frequency table for the prime_genre column of the Apple App Store data set, and the Genres and Category columns of the Google Play data set.\n",
    "\n",
    "In order to proceed further we will create two seperate functions to understand our analysis better:\n",
    "\n",
    "1. A function to generate frequency tables that will also show percentages\n",
    "2. A function that can display the percentages in a descending order"
   ]
  },
  {
   "cell_type": "code",
   "execution_count": 18,
   "metadata": {
    "collapsed": true
   },
   "outputs": [],
   "source": [
    "#Function 1- Generate frequency table that shows percentage of total\n",
    "\n",
    "def freq_table(dataset, index):\n",
    "    table = {}\n",
    "    total = 0\n",
    "    \n",
    "    # Count app frequency\n",
    "    for row in dataset:\n",
    "        total += 1\n",
    "        value = row[index]\n",
    "        if value in table:\n",
    "            table[value] += 1\n",
    "        else:\n",
    "            table[value] = 1\n",
    "    \n",
    "    # Calculate the app frequency as a percentage of total\n",
    "    table_percentages = {}\n",
    "    for key in table:\n",
    "        percentage = (table[key] / total) * 100\n",
    "        table_percentages[key] = percentage\n",
    "        \n",
    "    return table_percentages\n",
    "\n",
    "# Function 2: Display frequency table in a descending order\n",
    "\n",
    "def display_table(dataset, index):\n",
    "    table = freq_table(dataset, index)\n",
    "    table_display = []\n",
    "    \n",
    "    # Transform frequency table into a list of tuples \n",
    "    for key in table:\n",
    "        key_val_as_tuple = (table[key], key)\n",
    "        table_display.append(key_val_as_tuple)\n",
    "    \n",
    "    # Sort the list in a descending order\n",
    "    table_sorted = sorted(table_display, reverse = True)\n",
    "    for entry in table_sorted:\n",
    "        print(entry[1], ':', entry[0])"
   ]
  },
  {
   "cell_type": "markdown",
   "metadata": {},
   "source": [
    "We can now use the display_table function to explore our data set. Let's start by exploring the prime_genre column of the Apple App Store data set."
   ]
  },
  {
   "cell_type": "code",
   "execution_count": 19,
   "metadata": {},
   "outputs": [
    {
     "name": "stdout",
     "output_type": "stream",
     "text": [
      "Games : 58.16263190564867\n",
      "Entertainment : 7.883302296710118\n",
      "Photo & Video : 4.9658597144630665\n",
      "Education : 3.662321539416512\n",
      "Social Networking : 3.2898820608317814\n",
      "Shopping : 2.60707635009311\n",
      "Utilities : 2.5139664804469275\n",
      "Sports : 2.1415270018621975\n",
      "Music : 2.0484171322160147\n",
      "Health & Fitness : 2.0173805090006205\n",
      "Productivity : 1.7380509000620732\n",
      "Lifestyle : 1.5828677839851024\n",
      "News : 1.3345747982619491\n",
      "Travel : 1.2414649286157666\n",
      "Finance : 1.1173184357541899\n",
      "Weather : 0.8690254500310366\n",
      "Food & Drink : 0.8069522036002483\n",
      "Reference : 0.5586592178770949\n",
      "Business : 0.5276225946617008\n",
      "Book : 0.4345127250155183\n",
      "Navigation : 0.186219739292365\n",
      "Medical : 0.186219739292365\n",
      "Catalogs : 0.12414649286157665\n"
     ]
    }
   ],
   "source": [
    "display_table(Ios_final,-5)"
   ]
  },
  {
   "cell_type": "markdown",
   "metadata": {},
   "source": [
    "Based on this result, it can be inferred that the majority of the free English apps on the Apple App Store are Games (58.16%). The runner-up genre is Entertainment, which only has 7.88% of the market share, followed by Photo & Video apps at 4.96%. On the other hand, the least common apps are comprised of Navigation, Medical and Catalogs apps, each only takes up less than 0.2% of the apps in our data set.\n",
    "\n",
    "The general impression is that Apple App Store is currently dominated by apps that are designed for fun, such as games, entertainment, photo and video, etc. Whereas apps with practical purposes, like productivity, finance, and navigation, are more rare. However, the number of fun apps does not necessarily imply that they have the highest number of users, as the demand might not be the same as the offer.\n",
    "\n",
    "Next, we will explore the Genres and Category columns of the Google Play data set. We are going to look into both of them because we are currently unsure which column pertains to the actual genre."
   ]
  },
  {
   "cell_type": "code",
   "execution_count": 20,
   "metadata": {},
   "outputs": [
    {
     "name": "stdout",
     "output_type": "stream",
     "text": [
      "FAMILY : 18.907942238267147\n",
      "GAME : 9.724729241877256\n",
      "TOOLS : 8.461191335740072\n",
      "BUSINESS : 4.591606498194946\n",
      "LIFESTYLE : 3.9034296028880866\n",
      "PRODUCTIVITY : 3.892148014440433\n",
      "FINANCE : 3.7003610108303246\n",
      "MEDICAL : 3.531137184115524\n",
      "SPORTS : 3.395758122743682\n",
      "PERSONALIZATION : 3.3167870036101084\n",
      "COMMUNICATION : 3.2378158844765346\n",
      "HEALTH_AND_FITNESS : 3.0798736462093865\n",
      "PHOTOGRAPHY : 2.944494584837545\n",
      "NEWS_AND_MAGAZINES : 2.7978339350180503\n",
      "SOCIAL : 2.6624548736462095\n",
      "TRAVEL_AND_LOCAL : 2.33528880866426\n",
      "SHOPPING : 2.2450361010830324\n",
      "BOOKS_AND_REFERENCE : 2.1435018050541514\n",
      "DATING : 1.861462093862816\n",
      "VIDEO_PLAYERS : 1.7937725631768955\n",
      "MAPS_AND_NAVIGATION : 1.3989169675090252\n",
      "FOOD_AND_DRINK : 1.2409747292418771\n",
      "EDUCATION : 1.1620036101083033\n",
      "ENTERTAINMENT : 0.9589350180505415\n",
      "LIBRARIES_AND_DEMO : 0.9363718411552346\n",
      "AUTO_AND_VEHICLES : 0.9250902527075812\n",
      "HOUSE_AND_HOME : 0.8235559566787004\n",
      "WEATHER : 0.8009927797833934\n",
      "EVENTS : 0.7107400722021661\n",
      "PARENTING : 0.6543321299638989\n",
      "ART_AND_DESIGN : 0.6430505415162455\n",
      "COMICS : 0.6204873646209386\n",
      "BEAUTY : 0.5979241877256317\n"
     ]
    }
   ],
   "source": [
    "display_table(android_final,1) #category column"
   ]
  },
  {
   "cell_type": "markdown",
   "metadata": {},
   "source": [
    "Google Play market has more share for apps with \"practical genres\" comparatively to IOS App store data. If we observe good number of apps are designed for practical purposes(family, tools, business, finance, etc.) However, if we look into Family genre (accounts for 18.9% of the Google Play market), it appears to actually consist of games for kids. Therefore, we may also conclude that the top apps in Google Play market also consist of apps that are designed for fun."
   ]
  },
  {
   "cell_type": "code",
   "execution_count": 21,
   "metadata": {},
   "outputs": [
    {
     "name": "stdout",
     "output_type": "stream",
     "text": [
      "Tools : 8.449909747292418\n",
      "Entertainment : 6.069494584837545\n",
      "Education : 5.347472924187725\n",
      "Business : 4.591606498194946\n",
      "Productivity : 3.892148014440433\n",
      "Lifestyle : 3.892148014440433\n",
      "Finance : 3.7003610108303246\n",
      "Medical : 3.531137184115524\n",
      "Sports : 3.463447653429603\n",
      "Personalization : 3.3167870036101084\n",
      "Communication : 3.2378158844765346\n",
      "Action : 3.1024368231046933\n",
      "Health & Fitness : 3.0798736462093865\n",
      "Photography : 2.944494584837545\n",
      "News & Magazines : 2.7978339350180503\n",
      "Social : 2.6624548736462095\n",
      "Travel & Local : 2.3240072202166067\n",
      "Shopping : 2.2450361010830324\n",
      "Books & Reference : 2.1435018050541514\n",
      "Simulation : 2.0419675090252705\n",
      "Dating : 1.861462093862816\n",
      "Arcade : 1.8501805054151623\n",
      "Video Players & Editors : 1.7712093862815883\n",
      "Casual : 1.7599277978339352\n",
      "Maps & Navigation : 1.3989169675090252\n",
      "Food & Drink : 1.2409747292418771\n",
      "Puzzle : 1.128158844765343\n",
      "Racing : 0.9927797833935018\n",
      "Role Playing : 0.9363718411552346\n",
      "Libraries & Demo : 0.9363718411552346\n",
      "Auto & Vehicles : 0.9250902527075812\n",
      "Strategy : 0.9138086642599278\n",
      "House & Home : 0.8235559566787004\n",
      "Weather : 0.8009927797833934\n",
      "Events : 0.7107400722021661\n",
      "Adventure : 0.6768953068592057\n",
      "Comics : 0.6092057761732852\n",
      "Beauty : 0.5979241877256317\n",
      "Art & Design : 0.5979241877256317\n",
      "Parenting : 0.4963898916967509\n",
      "Card : 0.45126353790613716\n",
      "Casino : 0.42870036101083037\n",
      "Trivia : 0.41741877256317694\n",
      "Educational;Education : 0.39485559566787\n",
      "Board : 0.3835740072202166\n",
      "Educational : 0.3722924187725632\n",
      "Education;Education : 0.33844765342960287\n",
      "Word : 0.2594765342960289\n",
      "Casual;Pretend Play : 0.236913357400722\n",
      "Music : 0.2030685920577617\n",
      "Racing;Action & Adventure : 0.16922382671480143\n",
      "Puzzle;Brain Games : 0.16922382671480143\n",
      "Entertainment;Music & Video : 0.16922382671480143\n",
      "Casual;Brain Games : 0.13537906137184114\n",
      "Casual;Action & Adventure : 0.13537906137184114\n",
      "Arcade;Action & Adventure : 0.12409747292418773\n",
      "Action;Action & Adventure : 0.10153429602888085\n",
      "Educational;Pretend Play : 0.09025270758122744\n",
      "Simulation;Action & Adventure : 0.078971119133574\n",
      "Parenting;Education : 0.078971119133574\n",
      "Entertainment;Brain Games : 0.078971119133574\n",
      "Board;Brain Games : 0.078971119133574\n",
      "Parenting;Music & Video : 0.06768953068592057\n",
      "Educational;Brain Games : 0.06768953068592057\n",
      "Casual;Creativity : 0.06768953068592057\n",
      "Art & Design;Creativity : 0.06768953068592057\n",
      "Education;Pretend Play : 0.056407942238267145\n",
      "Role Playing;Pretend Play : 0.04512635379061372\n",
      "Education;Creativity : 0.04512635379061372\n",
      "Role Playing;Action & Adventure : 0.033844765342960284\n",
      "Puzzle;Action & Adventure : 0.033844765342960284\n",
      "Entertainment;Creativity : 0.033844765342960284\n",
      "Entertainment;Action & Adventure : 0.033844765342960284\n",
      "Educational;Creativity : 0.033844765342960284\n",
      "Educational;Action & Adventure : 0.033844765342960284\n",
      "Education;Music & Video : 0.033844765342960284\n",
      "Education;Brain Games : 0.033844765342960284\n",
      "Education;Action & Adventure : 0.033844765342960284\n",
      "Adventure;Action & Adventure : 0.033844765342960284\n",
      "Video Players & Editors;Music & Video : 0.02256317689530686\n",
      "Sports;Action & Adventure : 0.02256317689530686\n",
      "Simulation;Pretend Play : 0.02256317689530686\n",
      "Puzzle;Creativity : 0.02256317689530686\n",
      "Music;Music & Video : 0.02256317689530686\n",
      "Entertainment;Pretend Play : 0.02256317689530686\n",
      "Casual;Education : 0.02256317689530686\n",
      "Board;Action & Adventure : 0.02256317689530686\n",
      "Video Players & Editors;Creativity : 0.01128158844765343\n",
      "Trivia;Education : 0.01128158844765343\n",
      "Travel & Local;Action & Adventure : 0.01128158844765343\n",
      "Tools;Education : 0.01128158844765343\n",
      "Strategy;Education : 0.01128158844765343\n",
      "Strategy;Creativity : 0.01128158844765343\n",
      "Strategy;Action & Adventure : 0.01128158844765343\n",
      "Simulation;Education : 0.01128158844765343\n",
      "Role Playing;Brain Games : 0.01128158844765343\n",
      "Racing;Pretend Play : 0.01128158844765343\n",
      "Puzzle;Education : 0.01128158844765343\n",
      "Parenting;Brain Games : 0.01128158844765343\n",
      "Music & Audio;Music & Video : 0.01128158844765343\n",
      "Lifestyle;Pretend Play : 0.01128158844765343\n",
      "Lifestyle;Education : 0.01128158844765343\n",
      "Health & Fitness;Education : 0.01128158844765343\n",
      "Health & Fitness;Action & Adventure : 0.01128158844765343\n",
      "Entertainment;Education : 0.01128158844765343\n",
      "Communication;Creativity : 0.01128158844765343\n",
      "Comics;Creativity : 0.01128158844765343\n",
      "Casual;Music & Video : 0.01128158844765343\n",
      "Card;Action & Adventure : 0.01128158844765343\n",
      "Books & Reference;Education : 0.01128158844765343\n",
      "Art & Design;Pretend Play : 0.01128158844765343\n",
      "Art & Design;Action & Adventure : 0.01128158844765343\n",
      "Arcade;Pretend Play : 0.01128158844765343\n",
      "Adventure;Education : 0.01128158844765343\n"
     ]
    }
   ],
   "source": [
    "display_table(android_final,-4)#genres column"
   ]
  },
  {
   "cell_type": "markdown",
   "metadata": {},
   "source": [
    "It is unclear on what actually differentiates Genres column against Category column, other than Genres seems to have a more granular view. For the purpose of this analysis, we will only work with Category column because we want to focus on the bigger picture.\n",
    "\n",
    "Based on our initial analysis, we found that App Store is dominated by apps designed for fun, while Google Play shows a more balanced landscape of both practical and entertainment apps. We might also want to avoid developing another game app, as the market seems to be oversaturated by entertainment apps."
   ]
  },
  {
   "cell_type": "markdown",
   "metadata": {},
   "source": [
    "# Apps With Most Users by Genre\n",
    "\n",
    "Next, we'll look into which genres have the most users. For the Google Play data set, we can get this information through the Installs column, whereas, for IOS App Store data set does not include this information. Therefore, we can use the total number of user ratings as proxyfound  and this can be found under rating_count_tot column.\n",
    "\n",
    "We need to perform the below steps to conduct this analysis:\n",
    "\n",
    "* Isolate the apps of each genre\n",
    "* Sum up the user ratings for the apps of that genre\n",
    "* Divide the sum by the number of apps belonging to that genre\n",
    "\n",
    "Below, we calculate the average number of user ratings per app genre on the IOS App Store."
   ]
  },
  {
   "cell_type": "code",
   "execution_count": 25,
   "metadata": {},
   "outputs": [
    {
     "name": "stdout",
     "output_type": "stream",
     "text": [
      "('Navigation', 86090.33333333333)\n",
      "('Reference', 74942.11111111111)\n",
      "('Social Networking', 71548.34905660378)\n",
      "('Music', 57326.530303030304)\n",
      "('Weather', 52279.892857142855)\n",
      "('Book', 39758.5)\n",
      "('Food & Drink', 33333.92307692308)\n",
      "('Finance', 31467.944444444445)\n",
      "('Photo & Video', 28441.54375)\n",
      "('Travel', 28243.8)\n",
      "('Shopping', 26919.690476190477)\n",
      "('Health & Fitness', 23298.015384615384)\n",
      "('Sports', 23008.898550724636)\n",
      "('Games', 22788.6696905016)\n",
      "('News', 21248.023255813954)\n",
      "('Productivity', 21028.410714285714)\n",
      "('Utilities', 18684.456790123455)\n",
      "('Lifestyle', 16485.764705882353)\n",
      "('Entertainment', 14029.830708661417)\n",
      "('Business', 7491.117647058823)\n",
      "('Education', 7003.983050847458)\n",
      "('Catalogs', 4004.0)\n",
      "('Medical', 612.0)\n"
     ]
    }
   ],
   "source": [
    "import operator\n",
    "\n",
    "genres_ios = freq_table(Ios_final, -5)\n",
    "\n",
    "unsorted_genres_ios = {}\n",
    "\n",
    "for genre in genres_ios:\n",
    "    total = 0       # Store sum of ratings for each genre\n",
    "    len_genre = 0   # Store number of apps specific to the genre\n",
    "    for app in Ios_final:\n",
    "        genre_app = app[-5]\n",
    "        if genre_app == genre:            \n",
    "            n_ratings = float(app[5])\n",
    "            total += n_ratings\n",
    "            len_genre += 1\n",
    "    avg_n_ratings = total / len_genre   # Compute the average number of user rating\n",
    "    unsorted_genres_ios[genre] = avg_n_ratings # Store the value to an unsorted dictionary\n",
    "\n",
    "# Sort the dictionary values into a list of tuples and assign it to a new variable\n",
    "sorted_genres_ios = sorted(unsorted_genres_ios.items(), key=operator.itemgetter(1), reverse=True)\n",
    "\n",
    "for item in sorted_genres_ios:\n",
    "    print(item)"
   ]
  },
  {
   "cell_type": "markdown",
   "metadata": {},
   "source": [
    "It seems that the Navigation and Reference are the most popular genre on IOS App Store. Let's explore each of this genre to make sure that their average number of user rating value is not skewed or inflated by one or two major apps."
   ]
  },
  {
   "cell_type": "code",
   "execution_count": 30,
   "metadata": {},
   "outputs": [
    {
     "name": "stdout",
     "output_type": "stream",
     "text": [
      "Waze - GPS Navigation, Maps & Real-time Traffic : 345046\n",
      "Google Maps - Navigation & Transit : 154911\n",
      "Geocaching® : 12811\n",
      "CoPilot GPS – Car Navigation & Offline Maps : 3582\n",
      "ImmobilienScout24: Real Estate Search in Germany : 187\n",
      "Railway Route Search : 5\n"
     ]
    }
   ],
   "source": [
    "# Print the total number of user ratings for each app under Navigation genre\n",
    "for app in Ios_final:\n",
    "    if app[-5] == 'Navigation':\n",
    "        print(app[1], ':', app[5])"
   ]
  },
  {
   "cell_type": "code",
   "execution_count": 32,
   "metadata": {},
   "outputs": [
    {
     "name": "stdout",
     "output_type": "stream",
     "text": [
      "Bible : 985920\n",
      "Dictionary.com Dictionary & Thesaurus : 200047\n",
      "Dictionary.com Dictionary & Thesaurus for iPad : 54175\n",
      "Google Translate : 26786\n",
      "Muslim Pro: Ramadan 2017 Prayer Times, Azan, Quran : 18418\n",
      "New Furniture Mods - Pocket Wiki & Game Tools for Minecraft PC Edition : 17588\n",
      "Merriam-Webster Dictionary : 16849\n",
      "Night Sky : 12122\n",
      "City Maps for Minecraft PE - The Best Maps for Minecraft Pocket Edition (MCPE) : 8535\n",
      "LUCKY BLOCK MOD ™ for Minecraft PC Edition - The Best Pocket Wiki & Mods Installer Tools : 4693\n",
      "GUNS MODS for Minecraft PC Edition - Mods Tools : 1497\n",
      "Guides for Pokémon GO - Pokemon GO News and Cheats : 826\n",
      "WWDC : 762\n",
      "Horror Maps for Minecraft PE - Download The Scariest Maps for Minecraft Pocket Edition (MCPE) Free : 718\n",
      "VPN Express : 14\n",
      "Real Bike Traffic Rider Virtual Reality Glasses : 8\n",
      "教えて!goo : 0\n",
      "Jishokun-Japanese English Dictionary & Translator : 0\n"
     ]
    }
   ],
   "source": [
    "# Print the total number of user ratings for each app under Reference genre\n",
    "for app in Ios_final:\n",
    "    if app[-5] == 'Reference':\n",
    "        print(app[1], ':', app[5])"
   ]
  },
  {
   "cell_type": "markdown",
   "metadata": {},
   "source": [
    "It turns out that these genres are actually dominated by major apps like Waze, Bible, and Dictionary.com, which has more than 100,000 user ratings. To prevent our numbers from being skewed by major apps, let's adjust our average number calculation to only include apps with less than 100,000 number of ratings:"
   ]
  },
  {
   "cell_type": "code",
   "execution_count": 34,
   "metadata": {},
   "outputs": [
    {
     "name": "stdout",
     "output_type": "stream",
     "text": [
      "('Book', 16605.75)\n",
      "('Social Networking', 13900.021052631579)\n",
      "('Shopping', 12601.987012987012)\n",
      "('Productivity', 12377.692307692309)\n",
      "('Finance', 10506.354838709678)\n",
      "('Sports', 10314.09375)\n",
      "('Reference', 10186.9375)\n",
      "('Photo & Video', 9317.454545454546)\n",
      "('Utilities', 8676.57142857143)\n",
      "('Travel', 8490.081081081082)\n",
      "('Music', 8395.543859649122)\n",
      "('Entertainment', 8260.150406504064)\n",
      "('News', 7850.45)\n",
      "('Business', 7491.117647058823)\n",
      "('Weather', 7454.772727272727)\n",
      "('Games', 6854.495184135977)\n",
      "('Health & Fitness', 6417.3442622950815)\n",
      "('Lifestyle', 5297.666666666667)\n",
      "('Education', 4660.163793103448)\n",
      "('Navigation', 4146.25)\n",
      "('Catalogs', 4004.0)\n",
      "('Food & Drink', 3678.0454545454545)\n",
      "('Medical', 612.0)\n"
     ]
    }
   ],
   "source": [
    "genres_ios = freq_table(Ios_final, -5)\n",
    "\n",
    "unsorted_genres_ios = {}\n",
    "\n",
    "for genre in genres_ios:\n",
    "    total = 0          # Store sum of ratings for each genre\n",
    "    len_genre = 0      # Store number of apps specific to the genre\n",
    "    for app in Ios_final:\n",
    "        genre_app = app[-5]\n",
    "        ratings = float(app[5])\n",
    "        if genre_app == genre and ratings < 100000:  # Excludes apps with more than 100,000 user ratings          \n",
    "            n_ratings = float(app[5])\n",
    "            total += n_ratings\n",
    "            len_genre += 1\n",
    "    avg_n_ratings = total / len_genre           # Compute the average number of user rating\n",
    "    unsorted_genres_ios[genre] = avg_n_ratings  # Store the value to an unsorted dictionary\n",
    "\n",
    "# Sort the dictionary values into a list of tuples and assign it to a new variable\n",
    "sorted_genres_ios = sorted(unsorted_genres_ios.items(), key=operator.itemgetter(1), reverse=True)\n",
    "\n",
    "for item in sorted_genres_ios:\n",
    "    print(item)"
   ]
  },
  {
   "cell_type": "markdown",
   "metadata": {},
   "source": [
    "Book genre now appears to have the highest average number of user rating after we exclude any major apps, followed by Social Networking and Shopping apps. Let's look into what apps are actually available under that genre."
   ]
  },
  {
   "cell_type": "code",
   "execution_count": 35,
   "metadata": {},
   "outputs": [
    {
     "name": "stdout",
     "output_type": "stream",
     "text": [
      "Kindle – Read eBooks, Magazines & Textbooks : 252076\n",
      "Audible – audio books, original series & podcasts : 105274\n",
      "Color Therapy Adult Coloring Book for Adults : 84062\n",
      "OverDrive – Library eBooks and Audiobooks : 65450\n",
      "HOOKED - Chat Stories : 47829\n",
      "BookShout: Read eBooks & Track Your Reading Goals : 879\n",
      "Dr. Seuss Treasury — 50 best kids books : 451\n",
      "Green Riding Hood : 392\n",
      "Weirdwood Manor : 197\n",
      "MangaZERO - comic reader : 9\n",
      "ikouhoushi : 0\n",
      "MangaTiara - love comic reader : 0\n",
      "謎解き : 0\n",
      "謎解き2016 : 0\n"
     ]
    }
   ],
   "source": [
    "# Print the total number of user ratings for each app under Book genre\n",
    "for app in Ios_final:\n",
    "    if app[-5] == 'Book':\n",
    "        print(app[1], ':', app[5])"
   ]
  },
  {
   "cell_type": "markdown",
   "metadata": {},
   "source": [
    "The most popular Book apps tends to be library-type apps, where a person can access multiple books in a single app. Coloring book is the only other non-Library app that has a high number of user rating. However, we might want to avoid creating another entertainment app because based on our first analysis, it appears that the market is already oversaturated with fun apps.\n",
    "\n",
    "Next, we'll analyze the Google Play market."
   ]
  },
  {
   "cell_type": "code",
   "execution_count": 36,
   "metadata": {},
   "outputs": [
    {
     "name": "stdout",
     "output_type": "stream",
     "text": [
      "1,000,000+ : 15.726534296028879\n",
      "100,000+ : 11.552346570397113\n",
      "10,000,000+ : 10.548285198555957\n",
      "10,000+ : 10.198555956678701\n",
      "1,000+ : 8.393501805054152\n",
      "100+ : 6.915613718411552\n",
      "5,000,000+ : 6.825361010830325\n",
      "500,000+ : 5.561823104693141\n",
      "50,000+ : 4.7721119133574\n",
      "5,000+ : 4.512635379061372\n",
      "10+ : 3.5424187725631766\n",
      "500+ : 3.2490974729241873\n",
      "50,000,000+ : 2.3014440433213\n",
      "100,000,000+ : 2.1322202166064983\n",
      "50+ : 1.917870036101083\n",
      "5+ : 0.78971119133574\n",
      "1+ : 0.5076714801444043\n",
      "500,000,000+ : 0.2707581227436823\n",
      "1,000,000,000+ : 0.22563176895306858\n",
      "0+ : 0.04512635379061372\n",
      "0 : 0.01128158844765343\n"
     ]
    }
   ],
   "source": [
    "display_table(android_final, 5)"
   ]
  },
  {
   "cell_type": "markdown",
   "metadata": {},
   "source": [
    "Unlike the IOS App Store's rating_count_tot column, it seems like Google Play's Installs column is not as precise because the installs number are grouped under specific brackets. For example, we do not know if an app with 100,000+ installs has 100,500 installs or 350,000 installs. For the purposes of our current project we can leave the data as is, since we do not need that level of precision.\n",
    "\n",
    "To perform computation on these installs number we will need to turn them into a float. Therefore, we will need to remove the commas and the plus signs, otherwise the calculation will fail and results in an error."
   ]
  },
  {
   "cell_type": "code",
   "execution_count": 37,
   "metadata": {},
   "outputs": [
    {
     "name": "stdout",
     "output_type": "stream",
     "text": [
      "('COMMUNICATION', 38456119.167247385)\n",
      "('VIDEO_PLAYERS', 24727872.452830188)\n",
      "('SOCIAL', 23253652.127118643)\n",
      "('PHOTOGRAPHY', 17840110.40229885)\n",
      "('PRODUCTIVITY', 16787331.344927534)\n",
      "('GAME', 15588015.603248259)\n",
      "('TRAVEL_AND_LOCAL', 13984077.710144928)\n",
      "('ENTERTAINMENT', 11640705.88235294)\n",
      "('TOOLS', 10801391.298666667)\n",
      "('NEWS_AND_MAGAZINES', 9549178.467741935)\n",
      "('BOOKS_AND_REFERENCE', 8767811.894736841)\n",
      "('SHOPPING', 7036877.311557789)\n",
      "('PERSONALIZATION', 5201482.6122448975)\n",
      "('WEATHER', 5074486.197183099)\n",
      "('HEALTH_AND_FITNESS', 4188821.9853479853)\n",
      "('MAPS_AND_NAVIGATION', 4056941.7741935486)\n",
      "('FAMILY', 3695641.8198090694)\n",
      "('SPORTS', 3638640.1428571427)\n",
      "('ART_AND_DESIGN', 1986335.0877192982)\n",
      "('FOOD_AND_DRINK', 1924897.7363636363)\n",
      "('EDUCATION', 1833495.145631068)\n",
      "('BUSINESS', 1712290.1474201474)\n",
      "('LIFESTYLE', 1437816.2687861272)\n",
      "('FINANCE', 1387692.475609756)\n",
      "('HOUSE_AND_HOME', 1331540.5616438356)\n",
      "('DATING', 854028.8303030303)\n",
      "('COMICS', 817657.2727272727)\n",
      "('AUTO_AND_VEHICLES', 647317.8170731707)\n",
      "('LIBRARIES_AND_DEMO', 638503.734939759)\n",
      "('PARENTING', 542603.6206896552)\n",
      "('BEAUTY', 513151.88679245283)\n",
      "('EVENTS', 253542.22222222222)\n",
      "('MEDICAL', 120550.61980830671)\n"
     ]
    }
   ],
   "source": [
    "categories_android = freq_table(android_final, 1)\n",
    "\n",
    "unsorted_categories_android = {}\n",
    "\n",
    "for category in categories_android:\n",
    "    total = 0                 # Store sum of installs for each genre\n",
    "    len_category = 0          # Store number of apps specific to the genre\n",
    "    for app in android_final:\n",
    "        category_app = app[1]\n",
    "        if category_app == category:\n",
    "            n_installs = app[5]\n",
    "            n_installs = n_installs.replace(',', '')  # Remove commas\n",
    "            n_installs = n_installs.replace('+','')   # Remove plus signs\n",
    "            total += float(n_installs)\n",
    "            len_category += 1\n",
    "    avg_n_installs = total / len_category                  # Compute the average number of user rating\n",
    "    unsorted_categories_android[category] = avg_n_installs # Store the value to an unsorted dictionary\n",
    "\n",
    "# Sort the dictionary values into a list of tuples and assign it to a new variable\n",
    "sorted_categories_android = sorted(unsorted_categories_android.items(), key=operator.itemgetter(1), reverse=True)\n",
    "\n",
    "for item in sorted_categories_android:\n",
    "    print(item)"
   ]
  },
  {
   "cell_type": "markdown",
   "metadata": {},
   "source": [
    "Communication apps appears to be the most popular with 38,456,119 number of installs. However, this number might be heavily skewed by a few major apps with over one billion or over 500 million installs. We want to make sure we are not picking out a genre that might seem more popular than they really are. Furthermore, we also do not want to develop an app under a genre that is already dominated by a few major players because it will be difficult to compete against them.\n",
    "\n",
    "Let's modify our analysis by excluding apps with over 100 million installs."
   ]
  },
  {
   "cell_type": "code",
   "execution_count": 38,
   "metadata": {},
   "outputs": [
    {
     "name": "stdout",
     "output_type": "stream",
     "text": [
      "('PHOTOGRAPHY', 7670532.29338843)\n",
      "('GAME', 6272564.694894147)\n",
      "('ENTERTAINMENT', 6118250.0)\n",
      "('VIDEO_PLAYERS', 5544878.133333334)\n",
      "('WEATHER', 5074486.197183099)\n",
      "('SHOPPING', 4640920.541237113)\n",
      "('COMMUNICATION', 3603485.3884615386)\n",
      "('PRODUCTIVITY', 3379657.318885449)\n",
      "('TOOLS', 3191461.128987517)\n",
      "('SOCIAL', 3084582.5201793723)\n",
      "('SPORTS', 2994082.551839465)\n",
      "('TRAVEL_AND_LOCAL', 2944079.6336633665)\n",
      "('PERSONALIZATION', 2549775.832167832)\n",
      "('MAPS_AND_NAVIGATION', 2484104.7540983604)\n",
      "('FAMILY', 2342897.527075812)\n",
      "('HEALTH_AND_FITNESS', 2005713.6605166052)\n",
      "('ART_AND_DESIGN', 1986335.0877192982)\n",
      "('FOOD_AND_DRINK', 1924897.7363636363)\n",
      "('EDUCATION', 1833495.145631068)\n",
      "('NEWS_AND_MAGAZINES', 1502841.8775510204)\n",
      "('BOOKS_AND_REFERENCE', 1437212.2162162163)\n",
      "('HOUSE_AND_HOME', 1331540.5616438356)\n",
      "('BUSINESS', 1226918.7407407407)\n",
      "('LIFESTYLE', 1152128.779710145)\n",
      "('FINANCE', 1086125.7859327218)\n",
      "('DATING', 854028.8303030303)\n",
      "('COMICS', 817657.2727272727)\n",
      "('AUTO_AND_VEHICLES', 647317.8170731707)\n",
      "('LIBRARIES_AND_DEMO', 638503.734939759)\n",
      "('PARENTING', 542603.6206896552)\n",
      "('BEAUTY', 513151.88679245283)\n",
      "('EVENTS', 253542.22222222222)\n",
      "('MEDICAL', 120550.61980830671)\n"
     ]
    }
   ],
   "source": [
    "categories_android = freq_table(android_final, 1)\n",
    "\n",
    "unsorted_categories_android = {}\n",
    "\n",
    "for category in categories_android:\n",
    "    total = 0                   # Store sum of installs for each genre\n",
    "    len_category = 0            # Store number of apps specific to the genre\n",
    "    for app in android_final:\n",
    "        category_app = app[1]\n",
    "        if category_app == category:\n",
    "            n_installs = app[5]\n",
    "            n_installs = n_installs.replace(',', '')   # Remove commas\n",
    "            n_installs = n_installs.replace('+','')    # Remove plus signs\n",
    "            n_installs = float(n_installs)\n",
    "            if n_installs < 100000000:                 # Exclude apps with over 100 million installs\n",
    "                total += float(n_installs)\n",
    "                len_category += 1\n",
    "    avg_n_installs = total / len_category                   # Compute the average number of installs\n",
    "    unsorted_categories_android[category] = avg_n_installs  # Store the value to an unsorted dictionary\n",
    "\n",
    "# Sort the dictionary values into a list of tuples and assign it to a new variable\n",
    "sorted_categories_android = sorted(unsorted_categories_android.items(), key=operator.itemgetter(1), reverse=True)\n",
    "\n",
    "for item in sorted_categories_android:\n",
    "    print(item)"
   ]
  },
  {
   "cell_type": "markdown",
   "metadata": {},
   "source": [
    "After excluding apps with over 100 million installs, we see that Photography category now rises to be the most popular genere. Let's explore this category in more depth. On this analysis, we will als only include apps with less than 100 million installs."
   ]
  },
  {
   "cell_type": "code",
   "execution_count": 39,
   "metadata": {},
   "outputs": [
    {
     "name": "stdout",
     "output_type": "stream",
     "text": [
      "TouchNote: Cards & Gifts : 1,000,000+\n",
      "FreePrints – Free Photos Delivered : 1,000,000+\n",
      "Groovebook Photo Books & Gifts : 500,000+\n",
      "Moony Lab - Print Photos, Books & Magnets ™ : 50,000+\n",
      "LALALAB prints your photos, photobooks and magnets : 1,000,000+\n",
      "Snapfish : 1,000,000+\n",
      "Motorola Camera : 50,000,000+\n",
      "HD Camera - Best Cam with filters & panorama : 5,000,000+\n",
      "LightX Photo Editor & Photo Effects : 10,000,000+\n",
      "Sweet Snap - live filter, Selfie photo edit : 10,000,000+\n",
      "HD Camera - Quick Snap Photo & Video : 1,000,000+\n",
      "B612 - Beauty & Filter Camera : 100,000,000+\n",
      "Waterfall Photo Frames : 1,000,000+\n",
      "Photo frame : 100,000+\n",
      "Huji Cam : 5,000,000+\n",
      "Unicorn Photo : 1,000,000+\n",
      "HD Camera : 5,000,000+\n",
      "Makeup Editor -Beauty Photo Editor & Selfie Camera : 1,000,000+\n",
      "Makeup Photo Editor: Makeup Camera & Makeup Editor : 1,000,000+\n",
      "Moto Photo Editor : 5,000,000+\n",
      "InstaBeauty -Makeup Selfie Cam : 50,000,000+\n",
      "Garden Photo Frames - Garden Photo Editor : 500,000+\n",
      "Photo Frame : 10,000,000+\n",
      "Selfie Camera - Photo Editor & Filter & Sticker : 50,000,000+\n",
      "Sweet Snap Lite - live filter, Selfie photo editor : 500,000+\n",
      "Selfie Camera: Beauty Camera, Photo Editor,Collage : 1,000,000+\n",
      "Night Photo Frame : 1,000,000+\n",
      "YouCam Makeup - Magic Selfie Makeovers : 100,000,000+\n",
      "Selfie Photo Editor : 1,000,000+\n",
      "ASUS Gallery : 50,000,000+\n",
      "Kids Photo Frames : 1,000,000+\n",
      "Pencil Photo Sketch-Sketching Drawing Photo Editor : 1,000,000+\n",
      "Pretty Makeup, Beauty Photo Editor & Snappy Camera : 5,000,000+\n",
      "Photo Collage - Layout Editor : 10,000,000+\n",
      "DSLR Camera Hd Ultra Professional : 1,000,000+\n",
      "Snap Cat Face Camera : 1,000,000+\n",
      "Silent Camera [High Quality] : 5,000,000+\n",
      "Sweet Camera - Selfie Filters, Beauty Camera : 10,000,000+\n",
      "Photo Frames : 10,000,000+\n",
      "Sweet Selfie - selfie camera, beauty cam, photo edit : 100,000,000+\n",
      "Candy selfie - photo editor, live filter camera : 10,000,000+\n",
      "Open Camera : 10,000,000+\n",
      "Beauty Makeup – Photo Makeover : 1,000,000+\n",
      "Blur Image Background Editor (Blur Photo Editor) : 5,000,000+\n",
      "Muzy - Share photos & collages : 5,000,000+\n",
      "QuickPic - Photo Gallery with Google Drive Support : 10,000,000+\n",
      "Flickr : 10,000,000+\n",
      "Camera for Android : 10,000,000+\n",
      "Photo Mixer : 10,000,000+\n",
      "Wondershare PowerCam : 10,000,000+\n",
      "love : 1,000,000+\n",
      "KVAD Camera +: Selfie, Photo Filter, Grids : 1,000,000+\n",
      "Camera51 - a smarter camera : 1,000,000+\n",
      "InstaCam - Camera for Selfie : 1,000,000+\n",
      "Sweet Camera : 5,000,000+\n",
      "RetroSelfie - Selfie Editor : 10,000,000+\n",
      "Mega Photo : 1,000,000+\n",
      "Blur Image Background : 10,000,000+\n",
      "MIX by Camera360 : 5,000,000+\n",
      "Google Photos : 1,000,000,000+\n",
      "SuperPhoto - Effects & Filters : 5,000,000+\n",
      "Camera FV-5 Lite : 10,000,000+\n",
      "HD Camera Ultra : 10,000,000+\n",
      "Cameringo Lite. Filters Camera : 10,000,000+\n",
      "Camera ZOOM FX - FREE : 5,000,000+\n",
      "HD Camera Pro for Android : 1,000,000+\n",
      "GoPro (formerly Capture) : 10,000,000+\n",
      "Beauty Makeup Snappy Collage Photo Editor - Lidow : 10,000,000+\n",
      "Samsung SMART CAMERA App : 1,000,000+\n",
      "Square InPic - Photo Editor & Collage Maker : 50,000,000+\n",
      "High-Speed Camera (GIF,Burst) : 5,000,000+\n",
      "Camera MX - Free Photo & Video Camera : 10,000,000+\n",
      "EyeEm - Camera & Photo Filter : 10,000,000+\n",
      "Retrica : 100,000,000+\n",
      "VSCO : 50,000,000+\n",
      "PhotoWonder: Pro Beauty Photo Editor Collage Maker : 50,000,000+\n",
      "Photo Effects Pro : 50,000,000+\n",
      "Photo Editor Selfie Camera Filter & Mirror Image : 50,000,000+\n",
      "No Crop & Square for Instagram : 10,000,000+\n",
      "Picture Grid Builder : 5,000,000+\n",
      "HD Camera for Android : 10,000,000+\n",
      "Photo Studio : 10,000,000+\n",
      "Photo Editor Pro : 100,000,000+\n",
      "Photo Editor- : 5,000,000+\n",
      "Mirror Photo:Editor Collage (HD) : 10,000,000+\n",
      "Pic Stitch - #1 Collage Maker : 1,000,000+\n",
      "PhotoDirector Photo Editor App : 10,000,000+\n",
      "Pic Collage - Photo Editor : 50,000,000+\n",
      "Photo Editor by Aviary : 50,000,000+\n",
      "Video Editor Music,Cut,No Crop : 50,000,000+\n",
      "Pixlr – Free Photo Editor : 50,000,000+\n",
      "Photo Editor : 10,000,000+\n",
      "Photo Collage Maker : 10,000,000+\n",
      "Adobe Photoshop Express:Photo Editor Collage Maker : 50,000,000+\n",
      "BeautyPlus - Easy Photo Editor & Selfie Camera : 100,000,000+\n",
      "PicsArt Photo Studio: Collage Maker & Pic Editor : 100,000,000+\n",
      "Photo Collage Editor : 100,000,000+\n",
      "Color Touch Effects : 10,000,000+\n",
      "InstaSize Photo Filters & Collage Editor : 50,000,000+\n",
      "Z Camera - Photo Editor, Beauty Selfie, Collage : 100,000,000+\n",
      "PhotoGrid: Video & Pic Collage Maker, Photo Editor : 100,000,000+\n",
      "Candy Camera - selfie, beauty camera, photo editor : 100,000,000+\n",
      "YouCam Perfect - Selfie Photo Editor : 100,000,000+\n",
      "Pixgram- video photo slideshow : 5,000,000+\n",
      "Fotor Photo Editor - Photo Collage & Photo Effects : 10,000,000+\n",
      "Snapseed : 50,000,000+\n",
      "Camera360: Selfie Photo Editor with Funny Sticker : 100,000,000+\n",
      "Font Studio- Photo Texts Image : 10,000,000+\n",
      "Add Text To Photo : 1,000,000+\n",
      "Phonto - Text on Photos : 10,000,000+\n",
      "Collage&Add Stickers papelook : 5,000,000+\n",
      "Shutterfly: Free Prints, Photo Books, Cards, Gifts : 5,000,000+\n",
      "Photo Collage - InstaMag : 10,000,000+\n",
      "Meitu – Beauty Cam, Easy Photo Editor : 10,000,000+\n",
      "Bestie - Camera360 Selfie : 10,000,000+\n",
      "B Tiff Viewer : 100,000+\n",
      "F-Stop Gallery : 1,000,000+\n",
      "How Do I Look : 500,000+\n",
      "Keepsafe Photo Vault: Hide Private Photos & Videos : 50,000,000+\n",
      "MakeupPlus - Your Own Virtual Makeup Artist : 50,000,000+\n",
      "Pixlr-o-matic : 10,000,000+\n",
      "PixelLab - Text on pictures : 10,000,000+\n",
      "Leica Q : 10,000+\n",
      "S Photo Editor - Collage Maker , Photo Collage : 100,000,000+\n",
      "U Camera : Phone 6s OS 9 style : 500,000+\n",
      "V.360° Camera : 100,000+\n",
      "Profile w/o crop for Telegram : 10,000+\n",
      "Z Camera : 10,000+\n",
      "Six Pack Abs Photo Editor : 1,000,000+\n",
      "Brica BPRO5 AE : 500,000+\n",
      "AfterFocus : 10,000,000+\n",
      "DSLR camera - Auto Focus and Blur Professional : 10,000+\n",
      "AR effect : 100,000,000+\n",
      "ASUS PixelMaster Camera : 10,000,000+\n",
      "easyFocus : 500,000+\n",
      "Blur Image - DSLR focus effect : 5,000,000+\n",
      "Camera Pro : 1,000,000+\n",
      "HD Camera - silent shutter : 1,000,000+\n",
      "A Better Camera : 5,000,000+\n",
      "Auto Dslr Photo Effect : Auto Focus Effect : 1,000+\n",
      "PhotoScan by Google Photos : 10,000,000+\n",
      "Afterlight : 1,000,000+\n",
      "Blurfoto : Auto blur photo background & DSLR focus : 500,000+\n",
      "Blur : 1,000,000+\n",
      "Picai - Smart AI Camera : 100,000+\n",
      "Adobe Illustrator Draw : 5,000,000+\n",
      "FaceApp : 10,000,000+\n",
      "AI Image Recognizer (beta) : 500+\n",
      "AJ Cam : 100+\n",
      "Selfie With Champion AJ Style : 500+\n",
      "A.J. Styles HD Wallpapers 2018 : 100+\n",
      "Scoompa Video - Slideshow Maker and Video Editor : 10,000,000+\n",
      "AEE AP : 1,000+\n",
      "SNOW - AR Camera : 50,000,000+\n",
      "Add Watermark Free : 1,000,000+\n",
      "camera zoom moon : 500,000+\n",
      "AZ Camera - Manual Pro Cam : 100,000+\n",
      "BC Camera : 500+\n",
      "Photo Editor by BeFunky : 10,000,000+\n",
      "Be Fabulous PHOTO BOOTH : 10,000+\n",
      "Adobe Photoshop Fix : 5,000,000+\n",
      "Photo BG Changer : 1,000+\n",
      "BG Editor : 5+\n",
      "PhotoLayers〜Superimpose,Eraser : 10,000,000+\n",
      "Blender BG - Photo Blend With Background : 100+\n",
      "Auto Background Changer : 1,000,000+\n",
      "Change photo background : 5,000,000+\n",
      "Background Eraser : 10,000,000+\n",
      "Background Changer & Eraser : 500,000+\n",
      "Cut Out : Background Eraser and background changer : 1,000,000+\n",
      "Ultimate Background Eraser : 1,000,000+\n",
      "DSLR Photography Training apps : 100,000+\n",
      "Photo Editor - BPhoto : 1,000+\n",
      "24 megapixel hd camera : 100,000+\n",
      "BK Photography : 1,000+\n",
      "BL 1-Click Camera - Free : 10,000+\n",
      "BL Portfolio : 100+\n",
      "BQ Camera : 1,000,000+\n",
      "BT Camera : 500,000+\n",
      "BlitzWolf Shutter - BW Shutter : 50,000+\n",
      "Black & White Camera - Lovely BW : 100,000+\n",
      "Analog BW - Camera filter effect foto film retouch : 100+\n",
      "Hypocam : 1,000,000+\n",
      "B&W Photo Filter Editor : 50,000+\n",
      "CB VIDEO VISION : 100+\n",
      "CB Hair Png - New Hair Png For CB Editing : 500+\n",
      "CB Edits PNG & CB Backgrounds : 5,000+\n",
      "CG Prints : 100+\n",
      "Gold Teeth Photo Editor : 100,000+\n",
      "Night Camera Blur Effect : 10,000+\n",
      "Camera V7 24 Megapixel : 100,000+\n",
      "Leica CL : 1,000+\n",
      "Canon CameraWindow : 1,000,000+\n",
      "Cymera Camera- Photo Editor, Filter,Collage,Layout : 100,000,000+\n",
      "Camera360 Lite - Selfie Camera : 10,000,000+\n",
      "Wallpaper.cz : 100+\n",
      "Face Filter, Selfie Editor - Sweet Camera : 10,000,000+\n",
      "Visage Lab – face retouch : 5,000,000+\n",
      "LC-DB-LITE : 100+\n",
      "DC-014 : 500+\n",
      "Bokeh (Background defocus) : 10,000,000+\n",
      "Love Collage - Photo Editor : 10,000,000+\n",
      "LINE Camera - Photo editor : 100,000,000+\n",
      "DF Night Selfies : 10,000+\n",
      "My Photo Keyboard : 10,000,000+\n",
      "Story Saver for Instagram : 5,000,000+\n",
      "Boomerang from Instagram : 50,000,000+\n",
      "Insave-Download for Instagram : 1,000,000+\n",
      "DP Editor : 5,000+\n",
      "DP Maker : 100,000+\n",
      "Square DP For Whatsapp : 10,000+\n",
      "DP Creator for WhatsApp : 100,000+\n",
      "Dp For FB : 1,000+\n",
      "Magical Insta DP : 1,000+\n",
      "All Types DP & Status Maker : 1,000+\n",
      "DP Photo Editor : 10,000+\n",
      "Fifa World Cup 2018: Photo Frame Editor & DP Maker : 100,000+\n",
      "Insta Square Profile DP : 5,000+\n",
      "DP Status 2017 : 50,000+\n",
      "LightMeter Free : 1,000,000+\n",
      "DS-L4 Viewer : 1,000+\n",
      "DU GIF Maker: GIF Maker, Video to GIF & GIF Editor : 500,000+\n",
      "DU Collage Maker - Photo Collage & Grid & Layout : 100,000+\n",
      "Live DV : 1,000+\n",
      "DV-4036 by Somikon : 1,000+\n",
      "Touch DV : 50+\n",
      "XDV : 1,000,000+\n",
      "DV Lottery Photo Tool : 50,000+\n",
      "DV KING 4K : 100+\n",
      "Wifi Action Camera : 50,000+\n",
      "4K Ultra Camera : 100,000+\n",
      "DV KING : 100+\n",
      "DENVER ACTION CAM 3 : 10,000+\n",
      "SportLook : 100,000+\n",
      "Displaying You VR : 50+\n",
      "i am EB : 10+\n",
      "Retro Camera : 10,000,000+\n",
      "Footej Camera : 1,000,000+\n",
      "Video Maker with Photo and Music : 1,000,000+\n",
      "Phogy, 3D Camera : 1,000,000+\n",
      "Photo Lab Picture Editor: face effects, art frames : 50,000,000+\n",
      "MomentCam Cartoons & Stickers : 50,000,000+\n",
      "A+ Gallery - Photos & Videos : 10,000,000+\n",
      "Light Meter - EV : 1,000+\n",
      "FilterGrid - Cam&Photo Editor : 1,000,000+\n",
      "ez Share Android app : 100,000+\n",
      "Ez iCam : 1,000,000+\n",
      "Facejjang : 10,000,000+\n",
      "Cover Camera for FB : 100,000+\n",
      "FB Photographie : 1,000+\n",
      "FD Fotografia : 100+\n",
      "Ghost In Photo : 5,000,000+\n",
      "FH WiFiCam : 10,000+\n",
      "PIP Selfie Camera Photo Editor : 10,000,000+\n",
      "FL Drone 2 : 5,000+\n",
      "FN Cam : 10,000+\n",
      "PIP-Camera FN Photo Effect : 1,000+\n",
      "Photo Editor Collage Maker Pro : 100,000,000+\n",
      "Free Slideshow Maker & Video Editor : 10,000,000+\n",
      "Thumbnail Maker : 1,000,000+\n",
      "PhotoFunia : 10,000,000+\n"
     ]
    }
   ],
   "source": [
    "for app in android_final:\n",
    "    if app[1] == 'PHOTOGRAPHY' and (app[5] != '1,000,000,000+'\n",
    "                                            or app[5] != '500,000,000+'\n",
    "                                            or app[5] != '100,000,000+'):\n",
    "        print(app[0], ':', app[5])"
   ]
  },
  {
   "cell_type": "markdown",
   "metadata": {},
   "source": [
    "It appears that the photography genre is oversaturated with apps that are related to video editing or selfies. So we may eliminate those app ideas. If we want to combine the most popular genres on both the IOS App Store and Google Play market, we may explore the idea of creating a Book app that relates to Photography. For example, we can create a Book app based on various photography guidebooks. Our app can contain photography tips, reference guide from experts, and even discussion boards on various photography topics."
   ]
  },
  {
   "cell_type": "markdown",
   "metadata": {},
   "source": [
    "# Popular Rated Apps by Genre"
   ]
  },
  {
   "cell_type": "markdown",
   "metadata": {},
   "source": [
    "To further consolidate our analysis, we can also look into the popular rated apps by Genre. We can do this by looking into Rating column on Google Play dataset and user_rating column on the App Store dataset. By performing this analysis, we can assume that if people are willing to provide positive reviews for a certain genre, there is also a likelihood for them to promote these apps to their friends. This data will then signify the potential growth rate for our app, or even opportunity for monetization in the future.\n",
    "\n",
    "First, we will look into the popular rated app for IOS App Store dataset. Let's make sure that the user_rating column has the appropriate data before we perform our analysis."
   ]
  },
  {
   "cell_type": "code",
   "execution_count": 40,
   "metadata": {},
   "outputs": [
    {
     "name": "stdout",
     "output_type": "stream",
     "text": [
      "Kindle – Read eBooks, Magazines & Textbooks : 3.5\n",
      "Audible – audio books, original series & podcasts : 4.5\n",
      "Color Therapy Adult Coloring Book for Adults : 5.0\n",
      "OverDrive – Library eBooks and Audiobooks : 4.0\n",
      "HOOKED - Chat Stories : 4.5\n",
      "BookShout: Read eBooks & Track Your Reading Goals : 4.0\n",
      "Dr. Seuss Treasury — 50 best kids books : 4.5\n",
      "Green Riding Hood : 4.0\n",
      "Weirdwood Manor : 4.5\n",
      "MangaZERO - comic reader : 4.5\n",
      "ikouhoushi : 0.0\n",
      "MangaTiara - love comic reader : 0.0\n",
      "謎解き : 0.0\n",
      "謎解き2016 : 0.0\n"
     ]
    }
   ],
   "source": [
    "for app in Ios_final:\n",
    "    if app[-5] == 'Book':\n",
    "        print(app[1],':',app[7])"
   ]
  },
  {
   "cell_type": "markdown",
   "metadata": {},
   "source": [
    "It seems that there are some apps with 0 rating. This probably means that no one has given them a rating yet. Therefore, we will remove them from our analysis to prevent them from skewing our data."
   ]
  },
  {
   "cell_type": "code",
   "execution_count": 41,
   "metadata": {},
   "outputs": [
    {
     "name": "stdout",
     "output_type": "stream",
     "text": [
      "('Medical', 4.5)\n",
      "('Book', 4.375)\n",
      "('Productivity', 4.255102040816326)\n",
      "('Games', 4.193901716992303)\n",
      "('Health & Fitness', 4.154545454545454)\n",
      "('Photo & Video', 4.144827586206897)\n",
      "('Catalogs', 4.125)\n",
      "('Shopping', 4.114864864864865)\n",
      "('Reference', 4.107142857142857)\n",
      "('Business', 3.9705882352941178)\n",
      "('Music', 3.9642857142857144)\n",
      "('Weather', 3.8947368421052633)\n",
      "('Education', 3.86697247706422)\n",
      "('Utilities', 3.857142857142857)\n",
      "('Travel', 3.75)\n",
      "('Social Networking', 3.7444444444444445)\n",
      "('Entertainment', 3.660337552742616)\n",
      "('News', 3.5694444444444446)\n",
      "('Lifestyle', 3.5217391304347827)\n",
      "('Food & Drink', 3.5)\n",
      "('Navigation', 3.5)\n",
      "('Finance', 3.4655172413793105)\n",
      "('Sports', 3.1475409836065573)\n"
     ]
    }
   ],
   "source": [
    "rating_ios = freq_table(Ios_final, -5)\n",
    "\n",
    "unsorted_ratings_ios = {}\n",
    "\n",
    "for genre in rating_ios:\n",
    "    total = 0             # Store sum of installs for each genre\n",
    "    len_rating = 0        # Store number of apps specific to the genre\n",
    "    for app in Ios_final:\n",
    "        genre_app = app[-5]\n",
    "        ratings = float(app[5])\n",
    "        n_ratings = float(app[7])\n",
    "        if genre == genre_app and ratings < 100000 and n_ratings != 0: # Exclude apps with over 100,000 number of ratings and has 0 rating\n",
    "            total += n_ratings\n",
    "            len_rating += 1\n",
    "    avg_n_ratings = total / len_rating           # Compute the average rating value\n",
    "    unsorted_ratings_ios[genre] = avg_n_ratings  # Store the value to an unsorted dictionary\n",
    "\n",
    "# Sort the dictionary values into a list of tuples and assign it to a new variable\n",
    "sorted_ratings_ios = sorted(unsorted_ratings_ios.items(), key=operator.itemgetter(1), reverse=True)\n",
    "\n",
    "for item in sorted_ratings_ios:\n",
    "    print(item)"
   ]
  },
  {
   "cell_type": "markdown",
   "metadata": {},
   "source": [
    "It appears that the genre with the highest average rating is Medical (4.5), followed by Books genre at 4.375. This further reinforce our idea to develop an app within the Book genre.\n",
    "\n",
    "Next, we will look into the Google Play data to see if this sentiment applies on the Android market as well. Before we perform our analysis, let's make sure that the Rating column has the appropriate data."
   ]
  },
  {
   "cell_type": "code",
   "execution_count": 42,
   "metadata": {},
   "outputs": [
    {
     "name": "stdout",
     "output_type": "stream",
     "text": [
      "E-Book Read - Read Book for free : 4.5\n",
      "Download free book with green book : 4.6\n",
      "Wikipedia : 4.4\n",
      "Cool Reader : 4.5\n",
      "Free Panda Radio Music : 4.5\n",
      "Book store : 4.4\n",
      "FBReader: Favorite Book Reader : 4.5\n",
      "English Grammar Complete Handbook : 4.6\n",
      "Free Books - Spirit Fanfiction and Stories : 4.8\n",
      "Google Play Books : 3.9\n",
      "AlReader -any text book reader : 4.6\n",
      "Offline English Dictionary : 4.2\n",
      "Offline: English to Tagalog Dictionary : 4.7\n",
      "FamilySearch Tree : 4.3\n",
      "Cloud of Books : 3.3\n",
      "Recipes of Prophetic Medicine for free : 4.6\n",
      "ReadEra – free ebook reader : 4.8\n",
      "Anonymous caller detection : NaN\n",
      "Ebook Reader : 4.1\n",
      "Litnet - E-books : 4.6\n",
      "Read books online : 4.1\n",
      "English to Urdu Dictionary : 4.6\n",
      "eBoox: book reader fb2 epub zip : 4.7\n",
      "English Persian Dictionary : 4.5\n",
      "Flybook : 3.9\n",
      "All Maths Formulas : 4.4\n",
      "Ancestry : 4.3\n",
      "HTC Help : 4.2\n",
      "English translation from Bengali : 4.5\n",
      "Pdf Book Download - Read Pdf Book : 4.4\n",
      "Free Book Reader : 3.4\n",
      "eBoox new: Reader for fb2 epub zip books : 4.9\n",
      "Only 30 days in English, the guideline is guaranteed : 4.6\n",
      "Moon+ Reader : 4.4\n",
      "SH-02J Owner's Manual (Android 8.0) : NaN\n",
      "English-Myanmar Dictionary : 4.4\n",
      "Golden Dictionary (EN-AR) : 4.4\n",
      "All Language Translator Free : 4.4\n",
      "Azpen eReader : 3.5\n",
      "URBANO V 02 instruction manual : NaN\n",
      "Bible : 4.7\n",
      "C Programs and Reference : 4.2\n",
      "C Offline Tutorial : 4.7\n",
      "C Programs Handbook : 4.0\n",
      "Amazon Kindle : 4.2\n",
      "Aab e Hayat Full Novel : 4.3\n",
      "Aldiko Book Reader : 4.2\n",
      "Google I/O 2018 : 4.3\n",
      "R Language Reference Guide : 3.9\n",
      "Learn R Programming Full : NaN\n",
      "R Programing Offline Tutorial : 5.0\n",
      "Guide for R Programming : NaN\n",
      "Learn R Programming : NaN\n",
      "R Quick Reference Big Data : NaN\n",
      "V Made : 4.3\n",
      "Wattpad 📖 Free Books : 4.6\n",
      "Dictionary - WordWeb : 4.6\n",
      "Guide (for X-MEN) : 4.6\n",
      "AC Air condition Troubleshoot,Repair,Maintenance : 4.2\n",
      "AE Bulletins : 4.5\n",
      "Ae Allah na Dai (Rasa) : 4.7\n",
      "50000 Free eBooks & Free AudioBooks : 4.1\n",
      "Ag PhD Field Guide : 4.1\n",
      "Ag PhD Deficiencies : 3.9\n",
      "Ag PhD Planting Population Calculator : NaN\n",
      "Ag PhD Soybean Diseases : NaN\n",
      "Fertilizer Removal By Crop : 4.1\n",
      "A-J Media Vault : NaN\n",
      "Al-Quran (Free) : 4.6\n",
      "Al Quran (Tafsir & by Word) : 4.8\n",
      "Al Quran Indonesia : 4.8\n",
      "Al'Quran Bahasa Indonesia : 4.6\n",
      "Al Quran Al karim : 4.6\n",
      "Al-Muhaffiz : 4.7\n",
      "Al Quran : EAlim - Translations & MP3 Offline : 4.5\n",
      "Al-Quran 30 Juz free copies : 4.5\n",
      "Koran Read &MP3 30 Juz Offline : 4.8\n",
      "Hafizi Quran 15 lines per page : 4.7\n",
      "Quran for Android : 4.7\n",
      "Surah Al-Waqiah : 4.7\n",
      "Hisnul Al Muslim - Hisn Invocations & Adhkaar : 4.6\n",
      "Satellite AR : 4.1\n",
      "Audiobooks from Audible : 4.5\n",
      "Kinot & Eichah for Tisha B'Av : 4.4\n",
      "AW Tozer Devotionals - Daily : 4.2\n",
      "Tozer Devotional -Series 1 : 5.0\n",
      "The Pursuit of God : 4.8\n",
      "AY Sing : 4.8\n",
      "Ay Hasnain k Nana Milad Naat : 4.3\n",
      "Ay Mohabbat Teri Khatir Novel : 4.2\n",
      "Arizona Statutes, ARS (AZ Law) : 3.9\n",
      "Oxford A-Z of English Usage : 4.0\n",
      "BD Fishpedia : 4.8\n",
      "BD All Sim Offer : 4.5\n",
      "Youboox - Livres, BD et magazines : 3.7\n",
      "B&H Kids AR : 3.9\n",
      "B y H Niños ES : 4.6\n",
      "Dictionary.com: Find Definitions for English Words : 4.6\n",
      "English Dictionary - Offline : 4.4\n",
      "Bible KJV : 4.5\n",
      "Borneo Bible, BM Bible : 4.9\n",
      "MOD Black for BM : NaN\n",
      "BM Box : 4.3\n",
      "Anime Mod for BM : NaN\n",
      "NOOK: Read eBooks & Magazines : 4.5\n",
      "NOOK Audiobooks : 3.5\n",
      "NOOK App for NOOK Devices : 4.7\n",
      "Browsery by Barnes & Noble : 4.7\n",
      "bp e-store : 4.4\n",
      "Brilliant Quotes: Life, Love, Family & Motivation : 4.5\n",
      "BR Ambedkar Biography & Quotes : 4.6\n",
      "BU Alsace : NaN\n",
      "Catholic La Bu Zo Kam : 5.0\n",
      "Khrifa Hla Bu (Solfa) : NaN\n",
      "Kristian Hla Bu : 4.8\n",
      "SA HLA BU : 4.7\n",
      "Learn SAP BW : NaN\n",
      "Learn SAP BW on HANA : NaN\n",
      "CA Laws 2018 (California Laws and Codes) : 3.9\n",
      "Bootable Methods(USB-CD-DVD) : 3.4\n",
      "cloudLibrary : 4.0\n",
      "SDA Collegiate Quarterly : 4.5\n",
      "Sabbath School : 4.7\n",
      "Cypress College Library : NaN\n",
      "Stats Royale for Clash Royale : 4.5\n",
      "GATE 21 years CS Papers(2011-2018 Solved) : NaN\n",
      "Learn CT Scan Of Head : 4.1\n",
      "Easy Cv maker 2018 : 3.9\n",
      "How to Write CV : 4.6\n",
      "CW Nuclear : 3.3\n",
      "CY Spray nozzle : NaN\n",
      "BibleRead En Cy Zh Yue : NaN\n",
      "CZ-Help : 5.0\n",
      "Modlitební knížka CZ : NaN\n",
      "Guide for DB Xenoverse : 4.2\n",
      "Guide for DB Xenoverse 2 : 4.4\n",
      "Guide for IMS DB : NaN\n",
      "DC HSEMA : 3.8\n",
      "DC Public Library : 4.2\n",
      "Painting Lulu DC Super Friends : NaN\n",
      "Dictionary : 4.5\n",
      "Fix Error Google Playstore : 4.3\n",
      "D. H. Lawrence Poems FREE : NaN\n",
      "Bilingual Dictionary Audio App : 2.7\n",
      "DM Screen : 4.4\n",
      "wikiHow: how to do anything : 4.4\n",
      "Dr. Doug's Tips : 4.0\n",
      "Bible du Semeur-BDS (French) : 4.5\n",
      "La citadelle du musulman : 4.5\n",
      "DV 2019 Entry Guide : 4.5\n",
      "DV 2019 - EDV Photo & Form : 3.9\n",
      "DV 2018 Winners Guide : 4.8\n",
      "EB Annual Meetings : 3.5\n",
      "EC - AP & Telangana : 3.5\n",
      "TN Patta Citta & EC : 3.8\n",
      "AP Stamps and Registration : 3.4\n",
      "CompactiMa EC pH Calibration : NaN\n",
      "EGW Writings 2 : 4.7\n",
      "EGW Writings : 4.7\n",
      "Bible with EGW Comments : 4.7\n",
      "My Little Pony AR Guide : 3.3\n",
      "SDA Sabbath School Quarterly : 4.7\n",
      "Duaa Ek Ibaadat : 4.9\n",
      "Spanish English Translator : 4.2\n",
      "Dictionary - Merriam-Webster : 4.5\n",
      "JW Library : 4.9\n",
      "Oxford Dictionary of English : Free : 4.1\n",
      "English Hindi Dictionary : 4.4\n",
      "English to Hindi Dictionary : 4.1\n",
      "EP Research Service : 4.7\n",
      "Hymnes et Louanges : 4.4\n",
      "EU Charter : 4.6\n",
      "EU Data Protection : 3.5\n",
      "EU IP Codes : NaN\n",
      "EW PDF : NaN\n",
      "BakaReader EX : 4.3\n",
      "EZ Quran : 4.6\n",
      "FA Part 1 & 2 Past Papers Solved Free – Offline : 3.9\n",
      "La Fe de Jesus : NaN\n",
      "La Fe de Jesús : NaN\n",
      "Le Fe de Jesus : NaN\n",
      "Florida - Pocket Brainbook : 4.6\n",
      "Florida Statutes (FL Code) : 3.2\n",
      "English To Shona Dictionary : 4.6\n",
      "Greek Bible FP (Audio) : NaN\n",
      "Golden Dictionary (FR-AR) : 4.2\n",
      "Fanfic-FR : 3.3\n",
      "Bulgarian French Dictionary Fr : 4.6\n",
      "Chemin (fr) : 4.8\n",
      "The SCP Foundation DB fr nn5n : 4.5\n"
     ]
    }
   ],
   "source": [
    "for app in android_final:\n",
    "    if app[1] == 'BOOKS_AND_REFERENCE':\n",
    "        print(app[0],':',app[2])"
   ]
  },
  {
   "cell_type": "markdown",
   "metadata": {},
   "source": [
    "For Google Play data set, it seems like they signify apps without ratings with a NaN value. We want to make sure that these apps are excluded from our analysis to prevent any errors when performing the average rating calculation"
   ]
  },
  {
   "cell_type": "code",
   "execution_count": 43,
   "metadata": {},
   "outputs": [
    {
     "name": "stdout",
     "output_type": "stream",
     "text": [
      "('EVENTS', 4.435555555555557)\n",
      "('BOOKS_AND_REFERENCE', 4.346753246753246)\n",
      "('EDUCATION', 4.3401960784313705)\n",
      "('PARENTING', 4.3395833333333345)\n",
      "('ART_AND_DESIGN', 4.338181818181818)\n",
      "('PERSONALIZATION', 4.291555555555557)\n",
      "('BEAUTY', 4.278571428571428)\n",
      "('SOCIAL', 4.25159574468085)\n",
      "('HEALTH_AND_FITNESS', 4.233333333333333)\n",
      "('WEATHER', 4.229230769230768)\n",
      "('SHOPPING', 4.221387283236996)\n",
      "('GAME', 4.218372703412077)\n",
      "('SPORTS', 4.213135593220339)\n",
      "('AUTO_AND_VEHICLES', 4.184722222222223)\n",
      "('LIBRARIES_AND_DEMO', 4.178125)\n",
      "('COMICS', 4.177358490566039)\n",
      "('FAMILY', 4.169251700680277)\n",
      "('FOOD_AND_DRINK', 4.1673913043478255)\n",
      "('PRODUCTIVITY', 4.16461538461539)\n",
      "('MEDICAL', 4.147807017543858)\n",
      "('PHOTOGRAPHY', 4.144104803493449)\n",
      "('HOUSE_AND_HOME', 4.140983606557378)\n",
      "('FINANCE', 4.128125000000001)\n",
      "('ENTERTAINMENT', 4.115)\n",
      "('NEWS_AND_MAGAZINES', 4.103076923076923)\n",
      "('BUSINESS', 4.102390438247011)\n",
      "('COMMUNICATION', 4.1019323671497565)\n",
      "('LIFESTYLE', 4.082374100719423)\n",
      "('TRAVEL_AND_LOCAL', 4.059195402298849)\n",
      "('MAPS_AND_NAVIGATION', 4.032727272727272)\n",
      "('VIDEO_PLAYERS', 4.030882352941177)\n",
      "('TOOLS', 4.010987261146498)\n",
      "('DATING', 3.9824427480916027)\n"
     ]
    }
   ],
   "source": [
    "ratings_android = freq_table(android_final, 1)\n",
    "\n",
    "unsorted_ratings_android = {}\n",
    "\n",
    "for category in ratings_android:\n",
    "    total = 0                  # Store sum of installs for each genre\n",
    "    len_ratings = 0            # Store number of apps specific to the genre\n",
    "    for app in android_final:\n",
    "        category_app = app[1]\n",
    "        n_ratings = app[2]\n",
    "        if category_app == category and n_ratings != 'NaN': # Exclude apps with NaN rating\n",
    "            installs = app[5]\n",
    "            installs = installs.replace('+','')   # Remove plus signs\n",
    "            installs = installs.replace(',','')   # Remove commas\n",
    "            installs = float(installs)\n",
    "            n_ratings = float(app[2])\n",
    "            if installs < 100000000:              # Exclude apps with over 100 million installs\n",
    "                total += n_ratings\n",
    "                len_ratings += 1\n",
    "    avg_n_ratings = total / len_ratings           # Compute the average rating value\n",
    "    unsorted_ratings_android[category] = avg_n_ratings # Store the value to an unsorted dictionary\n",
    "\n",
    "# Sort the dictionary values into a list of tuples and assign it to a new variable\n",
    "sorted_ratings_android = sorted(unsorted_ratings_android.items(), key=operator.itemgetter(1), reverse=True)\n",
    "\n",
    "for item in sorted_ratings_android:\n",
    "    print(item)"
   ]
  },
  {
   "cell_type": "markdown",
   "metadata": {},
   "source": [
    "Similar to the IOS App Store market, Books and Reference also shows up as the second highest rated genre on the Google Play market. This means that the market are generally receptive and willing to advocate for apps within the Book genre. We should proceed with our idea to develop an app within the Book genre because there is good potential for growth and monetization."
   ]
  },
  {
   "cell_type": "markdown",
   "metadata": {},
   "source": [
    "# Conclusion\n",
    "In this project, we analyzed IOS App Store and Google Play data to determine what type of app should our company build that can be profitable for both markets.\n",
    "\n",
    "Our conclusion is to build a book app that functions as a reference or guide for photographers. We found that both markets are already oversaturated by entertainment apps. Therefore, we decide to go with a combination of the most popular genres from each market which are Books for App Store and Photography for Google Play. For example, we can try to develop a Book app based on various photography guidebooks. Our app can contain photography tips, reference guide from experts, and discussion boards on various photography topics. Based on the ratings data, we also affirmed that both markets are eager to support book apps, which can help us with our future growth and monetization plans."
   ]
  }
 ],
 "metadata": {
  "kernelspec": {
   "display_name": "Python 3",
   "language": "python",
   "name": "python3"
  },
  "language_info": {
   "codemirror_mode": {
    "name": "ipython",
    "version": 3
   },
   "file_extension": ".py",
   "mimetype": "text/x-python",
   "name": "python",
   "nbconvert_exporter": "python",
   "pygments_lexer": "ipython3",
   "version": "3.7.7"
  }
 },
 "nbformat": 4,
 "nbformat_minor": 2
}
